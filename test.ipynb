{
 "cells": [
  {
   "cell_type": "code",
   "execution_count": 8,
   "metadata": {},
   "outputs": [
    {
     "name": "stdout",
     "output_type": "stream",
     "text": [
      "avena\n",
      "Kcals per gram: 3.75\n",
      "Fat per gram: 0.07\n",
      "Carbs per gram: 0.59\n",
      "Protein per gram: 0.14\n",
      "\n",
      "yogurt natural\n",
      "Kcals per gram: 0.59\n",
      "Fat per gram: 0.026000000000000002\n",
      "Carbs per gram: 0.049\n",
      "Protein per gram: 0.039\n",
      "\n",
      "platano\n",
      "Kcals per gram: 0.85\n",
      "Fat per gram: 0.0031\n",
      "Carbs per gram: 0.2175\n",
      "Protein per gram: 0.0104\n",
      "\n"
     ]
    }
   ],
   "source": [
    "import sqlite3\n",
    "\n",
    "food_ids = [\n",
    "    14,\n",
    "    18,\n",
    "    22\n",
    "]\n",
    "\n",
    "conn = sqlite3.connect(\"fatsecret_scrapper/food.db\")\n",
    "c = conn.cursor()\n",
    "\n",
    "foods = c.execute('SELECT * FROM food WHERE id IN ({})'.format(','.join('?'*len(food_ids))), food_ids).fetchall()\n",
    "\n",
    "food_names = [f[1] for f in foods]\n",
    "food_cals = [f[7] for f in foods]\n",
    "food_fats = [f[8] for f in foods]\n",
    "food_carbs = [f[9] for f in foods]\n",
    "food_prots = [f[10] for f in foods]\n",
    "\n",
    "# Print name and macros\n",
    "for i in range(len(food_names)):\n",
    "    print(food_names[i])\n",
    "    print(\"Kcals per gram: {}\".format(food_cals[i]))\n",
    "    print(\"Fat per gram: {}\".format(food_fats[i]))\n",
    "    print(\"Carbs per gram: {}\".format(food_carbs[i]))\n",
    "    print(\"Protein per gram: {}\".format(food_prots[i]))\n",
    "    print()"
   ]
  },
  {
   "cell_type": "code",
   "execution_count": 9,
   "metadata": {},
   "outputs": [],
   "source": [
    "import pulp\n",
    "\n",
    "KCALS_FAT = 9\n",
    "KCALS_CARBS = 4\n",
    "KCALS_PROTEIN = 4\n",
    "\n",
    "MIN_GRAM_QTY = 5\n",
    "\n",
    "KCAL_TOLERANCE = 0.05\n",
    "PROTEIN_TOLERANCE = 0.05\n",
    "CARBS_TOLERANCE = 0.05\n",
    "FAT_TOLERANCE = 0.05\n",
    "\n",
    "target_kcals = 600\n",
    "\n",
    "\n"
   ]
  }
 ],
 "metadata": {
  "kernelspec": {
   "display_name": "reciper",
   "language": "python",
   "name": "python3"
  },
  "language_info": {
   "codemirror_mode": {
    "name": "ipython",
    "version": 3
   },
   "file_extension": ".py",
   "mimetype": "text/x-python",
   "name": "python",
   "nbconvert_exporter": "python",
   "pygments_lexer": "ipython3",
   "version": "3.11.5"
  }
 },
 "nbformat": 4,
 "nbformat_minor": 2
}
