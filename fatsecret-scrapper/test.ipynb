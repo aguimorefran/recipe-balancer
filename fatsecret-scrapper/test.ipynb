{
 "cells": [
  {
   "cell_type": "code",
   "execution_count": 5,
   "metadata": {},
   "outputs": [],
   "source": [
    "import os\n",
    "import sqlite3\n",
    "\n",
    "DB_COLUMNS = [\n",
    "    (\"name\", \"TEXT\"),\n",
    "    (\"category\", \"TEXT\"),\n",
    "    (\"subcategory\", \"TEXT\"),\n",
    "    (\"brand\", \"TEXT\"),\n",
    "    (\"search_term\", \"TEXT\"),\n",
    "    (\"search_url\", \"TEXT\"),\n",
    "    (\"item_url\", \"TEXT\"),\n",
    "    (\"cals\", \"REAL\"),\n",
    "    (\"fat\", \"REAL\"),\n",
    "    (\"carb\", \"REAL\"),\n",
    "    (\"prot\", \"REAL\"),\n",
    "    (\"sugar\", \"REAL\"),\n",
    "    (\"fiber\", \"REAL\"),\n",
    "    (\"cholesterol\", \"REAL\"),\n",
    "    (\"sodium\", \"REAL\"),\n",
    "    (\"potassium\", \"REAL\"),\n",
    "    (\"calcium\", \"REAL\"),\n",
    "    (\"others\", \"TEXT\"),\n",
    "    (\"serving_size\", \"REAL\"),\n",
    "    (\"serving_size_unit\", \"TEXT\"),\n",
    "    (\"serving_size_g\", \"REAL\"),\n",
    "    (\"serving_size_ml\", \"REAL\")\n",
    "]\n",
    "\n",
    "def init_db():\n",
    "    conn = sqlite3.connect('food.db')\n",
    "    c = conn.cursor()\n",
    "    c.execute(\"DROP TABLE IF EXISTS food\")\n",
    "    c.execute(\"CREATE TABLE food (\" + \", \".join([f\"{col[0]} {col[1]}\" for col in DB_COLUMNS]) + \")\")\n",
    "    conn.commit()\n",
    "    conn.close()\n",
    "\n",
    "    if not os.path.isfile('food.db'):\n",
    "        print(\"Error creating database\")\n",
    "        return False\n",
    "\n",
    "    conn = sqlite3.connect('food.db')\n",
    "    c = conn.cursor()\n",
    "    c.execute(\"SELECT name FROM sqlite_master WHERE type='table' AND name='food'\")\n",
    "    result = c.fetchone()\n",
    "    if result is None:\n",
    "        print(\"Error creating table\")\n",
    "        return False\n",
    "\n",
    "    conn.close()\n",
    "    return True"
   ]
  },
  {
   "cell_type": "code",
   "execution_count": 15,
   "metadata": {},
   "outputs": [
    {
     "name": "stdout",
     "output_type": "stream",
     "text": [
      "Number of foods: 1\n",
      "[{'name': 'tomate', 'category': 'vegetales', 'subcategory': 'hortalizas'}, {'name': 'cebolla', 'category': 'vegetales', 'subcategory': 'hortalizas'}, {'name': 'pimiento', 'category': 'vegetales', 'subcategory': 'hortalizas'}, {'name': 'zanahoria', 'category': 'vegetales', 'subcategory': 'hortalizas'}, {'name': 'lechuga', 'category': 'vegetales', 'subcategory': 'hojas'}, {'name': 'pepino', 'category': 'vegetales', 'subcategory': 'hortalizas'}, {'name': 'arroz', 'category': 'cereales', 'subcategory': 'granos'}, {'name': 'arroz basmati', 'category': 'cereales', 'subcategory': 'granos'}, {'name': 'pasta', 'category': 'cereales', 'subcategory': 'pastas'}, {'name': 'patata', 'category': 'vegetales', 'subcategory': 'tubérculos'}, {'name': 'tortitas de maiz', 'category': 'snacks', 'subcategory': 'tortitas'}, {'name': 'tortitas de trigo', 'category': 'snacks', 'subcategory': 'tortitas'}, {'name': 'pan', 'category': 'panadería', 'subcategory': 'panes'}, {'name': 'pan de molde', 'category': 'panadería', 'subcategory': 'panes'}, {'name': 'pan de hamburguesa', 'category': 'panadería', 'subcategory': 'panes'}, {'name': 'pan integral', 'category': 'panadería', 'subcategory': 'panes'}, {'name': 'piquitos', 'category': 'panadería', 'subcategory': 'panes'}, {'name': 'pechuga de pollo', 'category': 'carnes', 'subcategory': 'aves'}, {'name': 'pechuga de pavo', 'category': 'carnes', 'subcategory': 'aves'}, {'name': 'contramuslo de pollo', 'category': 'carnes', 'subcategory': 'aves'}, {'name': 'lomo de cerdo', 'category': 'carnes', 'subcategory': 'cerdo'}, {'name': 'solomillo de cerdo', 'category': 'carnes', 'subcategory': 'cerdo'}, {'name': 'solomillo de ternera', 'category': 'carnes', 'subcategory': 'ternera'}, {'name': 'filete de ternera', 'category': 'carnes', 'subcategory': 'ternera'}, {'name': 'filete de cerdo', 'category': 'carnes', 'subcategory': 'cerdo'}, {'name': 'filete de pollo', 'category': 'carnes', 'subcategory': 'aves'}, {'name': 'filete de pavo', 'category': 'carnes', 'subcategory': 'aves'}, {'name': 'hamburguesa de ternera', 'category': 'carnes', 'subcategory': 'hamburguesas'}, {'name': 'hamburguesa de pollo', 'category': 'carnes', 'subcategory': 'hamburguesas'}, {'name': 'hamburguesa de pavo', 'category': 'carnes', 'subcategory': 'hamburguesas'}, {'name': 'hamburguesa de cerdo', 'category': 'carnes', 'subcategory': 'hamburguesas'}, {'name': 'huevo', 'category': 'lácteos', 'subcategory': 'huevos'}, {'name': 'queso curado', 'category': 'lácteos', 'subcategory': 'quesos'}, {'name': 'queso tierno', 'category': 'lácteos', 'subcategory': 'quesos'}, {'name': 'queso de cabra', 'category': 'lácteos', 'subcategory': 'quesos'}, {'name': 'queso de untar', 'category': 'lácteos', 'subcategory': 'quesos'}, {'name': 'yogur natural', 'category': 'lácteos', 'subcategory': 'yogures'}, {'name': 'yogur de sabores', 'category': 'lácteos', 'subcategory': 'yogures'}, {'name': 'leche semidesnatada', 'category': 'lácteos', 'subcategory': 'leches'}, {'name': 'leche desnatada', 'category': 'lácteos', 'subcategory': 'leches'}, {'name': 'mayonesa', 'category': 'salsas', 'subcategory': 'mayonesas'}, {'name': 'ketchup', 'category': 'salsas', 'subcategory': 'ketchups'}, {'name': 'mostaza', 'category': 'salsas', 'subcategory': 'mostazas'}, {'name': 'mostaza en grano', 'category': 'salsas', 'subcategory': 'mostazas'}]\n"
     ]
    }
   ],
   "source": [
    "from harvest import harvest_info\n",
    "\n",
    "with open('foods.json', 'r') as f:\n",
    "    foods = json.load(f)\n",
    "\n",
    "# This file contains a only key \"foods\" with value = list of objects\n",
    "# {\n",
    "#     \"food_list\": [\n",
    "#         {\n",
    "#             \"name\": \"tomate\",\n",
    "#             \"category\": \"vegetales\",\n",
    "#             \"subcategory\": \"hortalizas\"\n",
    "#         },\n",
    "#         {"
   ]
  }
 ],
 "metadata": {
  "kernelspec": {
   "display_name": "reciper",
   "language": "python",
   "name": "python3"
  },
  "language_info": {
   "codemirror_mode": {
    "name": "ipython",
    "version": 3
   },
   "file_extension": ".py",
   "mimetype": "text/x-python",
   "name": "python",
   "nbconvert_exporter": "python",
   "pygments_lexer": "ipython3",
   "version": "3.11.5"
  },
  "orig_nbformat": 4
 },
 "nbformat": 4,
 "nbformat_minor": 2
}
